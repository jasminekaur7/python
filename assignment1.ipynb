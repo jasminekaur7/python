{
  "nbformat": 4,
  "nbformat_minor": 0,
  "metadata": {
    "colab": {
      "provenance": [],
      "authorship_tag": "ABX9TyMA25i7DJl3cuw2wijQv1a4",
      "include_colab_link": true
    },
    "kernelspec": {
      "name": "python3",
      "display_name": "Python 3"
    },
    "language_info": {
      "name": "python"
    }
  },
  "cells": [
    {
      "cell_type": "markdown",
      "metadata": {
        "id": "view-in-github",
        "colab_type": "text"
      },
      "source": [
        "<a href=\"https://colab.research.google.com/github/jasminekaur7/python/blob/main/assignment1.ipynb\" target=\"_parent\"><img src=\"https://colab.research.google.com/assets/colab-badge.svg\" alt=\"Open In Colab\"/></a>"
      ]
    },
    {
      "cell_type": "markdown",
      "source": [],
      "metadata": {
        "id": "05ZpWIk_Xleb"
      }
    },
    {
      "cell_type": "code",
      "source": [
        "!git clone https://github.com/jasminekaur7/python.git"
      ],
      "metadata": {
        "colab": {
          "base_uri": "https://localhost:8080/"
        },
        "id": "y5RfBo9NAPvR",
        "outputId": "e1e8e124-801b-4f0e-9112-e44321b0dee3"
      },
      "execution_count": 20,
      "outputs": [
        {
          "output_type": "stream",
          "name": "stdout",
          "text": [
            "Cloning into 'python'...\n",
            "remote: Enumerating objects: 3, done.\u001b[K\n",
            "remote: Counting objects: 100% (3/3), done.\u001b[K\n",
            "remote: Total 3 (delta 0), reused 0 (delta 0), pack-reused 0 (from 0)\u001b[K\n",
            "Receiving objects: 100% (3/3), done.\n"
          ]
        }
      ]
    },
    {
      "cell_type": "markdown",
      "source": [
        "Q1. L is a list defined as L= [11, 12, 13, 14].\n",
        "(i) WAP to add 50 and 60 to L."
      ],
      "metadata": {
        "id": "uZJ19oO6Xm0U"
      }
    },
    {
      "cell_type": "code",
      "source": [
        "import string as s\n",
        "import random as r\n",
        "print(\"String  -->\", s.ascii_letters)\n",
        "for i in range(0, 100):\n",
        "  length = r.randint(6, 8)\n",
        "  random_string = ''.join(r.choice(s.ascii_letters) for _ in range(length))\n",
        "  print(random_string)"
      ],
      "metadata": {
        "colab": {
          "base_uri": "https://localhost:8080/"
        },
        "id": "Vey3m6R_ldMQ",
        "outputId": "784dc3db-5aba-419d-b0c1-06c3c9b7baa4"
      },
      "execution_count": 7,
      "outputs": [
        {
          "output_type": "stream",
          "name": "stdout",
          "text": [
            "String  --> abcdefghijklmnopqrstuvwxyzABCDEFGHIJKLMNOPQRSTUVWXYZ\n",
            "GdymoBSu\n",
            "rzADhgW\n",
            "ucFopQ\n",
            "LCgugBp\n",
            "cCLyJiE\n",
            "KMXVgfkm\n",
            "efwudXRi\n",
            "KmjbyUr\n",
            "EYsKYmK\n",
            "qnEeivdH\n",
            "qxWsMYlt\n",
            "pESsnQDX\n",
            "FynXOx\n",
            "UAuAqQc\n",
            "VOIIruU\n",
            "qWFffu\n",
            "eIYuyth\n",
            "bmLGWDn\n",
            "QLqUqbCD\n",
            "sJYxbvL\n",
            "UoSAwKS\n",
            "oXpCXeUN\n",
            "zFniDaA\n",
            "beOVagXV\n",
            "YPySVPX\n",
            "jCLseK\n",
            "XrEaYK\n",
            "khgZkDQ\n",
            "Yrasljn\n",
            "LdAiZhA\n",
            "oOwliE\n",
            "TQZQkis\n",
            "xKUcTcT\n",
            "hsoLIP\n",
            "EPFWxJXK\n",
            "OgkkNpX\n",
            "bkSOOMwh\n",
            "bttNlH\n",
            "sQeQBq\n",
            "aivvMh\n",
            "CpdzHrq\n",
            "VBUfkO\n",
            "UcUKbhh\n",
            "yLprShmZ\n",
            "ezNtjz\n",
            "LREeJV\n",
            "UjkhBnXr\n",
            "xhGfGo\n",
            "OlXuWixW\n",
            "AUYCnsA\n",
            "bBCmRv\n",
            "PiwGmpJ\n",
            "sETlvcNu\n",
            "iGTHoVee\n",
            "LRpAKU\n",
            "ONYsfOWi\n",
            "TFLdUL\n",
            "kEHHKzO\n",
            "KIQWkQzm\n",
            "VohEUTyD\n",
            "NQiYmYI\n",
            "oMIliC\n",
            "tiMYwFs\n",
            "dKmjOwB\n",
            "bdOYDJUY\n",
            "vOBiGnGW\n",
            "Tywwdee\n",
            "WKbRwdSR\n",
            "trXnjOpL\n",
            "TmhAqCb\n",
            "zNinfdD\n",
            "pskOSrU\n",
            "OnpCDMJ\n",
            "tZKDvq\n",
            "FDbWmZIX\n",
            "pIGRgY\n",
            "oontFC\n",
            "DKDCUL\n",
            "emNnPcgw\n",
            "WlWnMZ\n",
            "ntSJYEWV\n",
            "BwKEGkln\n",
            "Akgzxg\n",
            "xInliMZ\n",
            "zPFiIfP\n",
            "nGHuBZdC\n",
            "aRzsMX\n",
            "JJshJLjW\n",
            "MRAlivIQ\n",
            "mKuEOWH\n",
            "eWSXIXA\n",
            "wFFjIxU\n",
            "EByfgH\n",
            "HNkcYY\n",
            "tTxUjJAz\n",
            "ekdzUf\n",
            "FRxoYCH\n",
            "HBbYnfqt\n",
            "fjuYHuzd\n",
            "gsxUwu\n"
          ]
        }
      ]
    },
    {
      "cell_type": "markdown",
      "source": [
        "\n",
        "WAP to print all prime numbers between 600 and 800."
      ],
      "metadata": {
        "id": "pe4K96Xfm7rz"
      }
    },
    {
      "cell_type": "code",
      "source": [
        "def primeno(n):\n",
        "  for i in range(2,n//2+1):\n",
        "    if(n%i==0):\n",
        "      return 1\n",
        "  return 0\n",
        "for i in range(601,800):\n",
        "  if(primeno(i)==0):\n",
        "    print(f\"{i} is a prime no\")\n",
        "\n"
      ],
      "metadata": {
        "colab": {
          "base_uri": "https://localhost:8080/"
        },
        "id": "AyHCB4XWm77u",
        "outputId": "ae6ab7a5-5b65-4bca-ec69-998f9abb6703"
      },
      "execution_count": 8,
      "outputs": [
        {
          "output_type": "stream",
          "name": "stdout",
          "text": [
            "601 is a prime no\n",
            "607 is a prime no\n",
            "613 is a prime no\n",
            "617 is a prime no\n",
            "619 is a prime no\n",
            "631 is a prime no\n",
            "641 is a prime no\n",
            "643 is a prime no\n",
            "647 is a prime no\n",
            "653 is a prime no\n",
            "659 is a prime no\n",
            "661 is a prime no\n",
            "673 is a prime no\n",
            "677 is a prime no\n",
            "683 is a prime no\n",
            "691 is a prime no\n",
            "701 is a prime no\n",
            "709 is a prime no\n",
            "719 is a prime no\n",
            "727 is a prime no\n",
            "733 is a prime no\n",
            "739 is a prime no\n",
            "743 is a prime no\n",
            "751 is a prime no\n",
            "757 is a prime no\n",
            "761 is a prime no\n",
            "769 is a prime no\n",
            "773 is a prime no\n",
            "787 is a prime no\n",
            "797 is a prime no\n"
          ]
        }
      ]
    },
    {
      "cell_type": "code",
      "source": [
        "def div7_9(n):\n",
        "  if(n%7==0 & n%9==0):\n",
        "    return 1\n",
        "for i in range(101,1000):\n",
        "  if(div7_9(i)==1):\n",
        "    print(f\"{i} is divisible by both 7 and 9\")"
      ],
      "metadata": {
        "colab": {
          "base_uri": "https://localhost:8080/"
        },
        "id": "oD4InC-j9QXi",
        "outputId": "89cd1add-6e07-489b-dab4-2ca71ac3e12d"
      },
      "execution_count": 9,
      "outputs": [
        {
          "output_type": "stream",
          "name": "stdout",
          "text": [
            "105 is divisible by both 7 and 9\n",
            "112 is divisible by both 7 and 9\n",
            "119 is divisible by both 7 and 9\n",
            "126 is divisible by both 7 and 9\n",
            "133 is divisible by both 7 and 9\n",
            "140 is divisible by both 7 and 9\n",
            "147 is divisible by both 7 and 9\n",
            "154 is divisible by both 7 and 9\n",
            "161 is divisible by both 7 and 9\n",
            "168 is divisible by both 7 and 9\n",
            "175 is divisible by both 7 and 9\n",
            "182 is divisible by both 7 and 9\n",
            "189 is divisible by both 7 and 9\n",
            "196 is divisible by both 7 and 9\n",
            "203 is divisible by both 7 and 9\n",
            "210 is divisible by both 7 and 9\n",
            "217 is divisible by both 7 and 9\n",
            "224 is divisible by both 7 and 9\n",
            "231 is divisible by both 7 and 9\n",
            "238 is divisible by both 7 and 9\n",
            "245 is divisible by both 7 and 9\n",
            "252 is divisible by both 7 and 9\n",
            "259 is divisible by both 7 and 9\n",
            "266 is divisible by both 7 and 9\n",
            "273 is divisible by both 7 and 9\n",
            "280 is divisible by both 7 and 9\n",
            "287 is divisible by both 7 and 9\n",
            "294 is divisible by both 7 and 9\n",
            "301 is divisible by both 7 and 9\n",
            "308 is divisible by both 7 and 9\n",
            "315 is divisible by both 7 and 9\n",
            "322 is divisible by both 7 and 9\n",
            "329 is divisible by both 7 and 9\n",
            "336 is divisible by both 7 and 9\n",
            "343 is divisible by both 7 and 9\n",
            "350 is divisible by both 7 and 9\n",
            "357 is divisible by both 7 and 9\n",
            "364 is divisible by both 7 and 9\n",
            "371 is divisible by both 7 and 9\n",
            "378 is divisible by both 7 and 9\n",
            "385 is divisible by both 7 and 9\n",
            "392 is divisible by both 7 and 9\n",
            "399 is divisible by both 7 and 9\n",
            "406 is divisible by both 7 and 9\n",
            "413 is divisible by both 7 and 9\n",
            "420 is divisible by both 7 and 9\n",
            "427 is divisible by both 7 and 9\n",
            "434 is divisible by both 7 and 9\n",
            "441 is divisible by both 7 and 9\n",
            "448 is divisible by both 7 and 9\n",
            "455 is divisible by both 7 and 9\n",
            "462 is divisible by both 7 and 9\n",
            "469 is divisible by both 7 and 9\n",
            "476 is divisible by both 7 and 9\n",
            "483 is divisible by both 7 and 9\n",
            "490 is divisible by both 7 and 9\n",
            "497 is divisible by both 7 and 9\n",
            "504 is divisible by both 7 and 9\n",
            "511 is divisible by both 7 and 9\n",
            "518 is divisible by both 7 and 9\n",
            "525 is divisible by both 7 and 9\n",
            "532 is divisible by both 7 and 9\n",
            "539 is divisible by both 7 and 9\n",
            "546 is divisible by both 7 and 9\n",
            "553 is divisible by both 7 and 9\n",
            "560 is divisible by both 7 and 9\n",
            "567 is divisible by both 7 and 9\n",
            "574 is divisible by both 7 and 9\n",
            "581 is divisible by both 7 and 9\n",
            "588 is divisible by both 7 and 9\n",
            "595 is divisible by both 7 and 9\n",
            "602 is divisible by both 7 and 9\n",
            "609 is divisible by both 7 and 9\n",
            "616 is divisible by both 7 and 9\n",
            "623 is divisible by both 7 and 9\n",
            "630 is divisible by both 7 and 9\n",
            "637 is divisible by both 7 and 9\n",
            "644 is divisible by both 7 and 9\n",
            "651 is divisible by both 7 and 9\n",
            "658 is divisible by both 7 and 9\n",
            "665 is divisible by both 7 and 9\n",
            "672 is divisible by both 7 and 9\n",
            "679 is divisible by both 7 and 9\n",
            "686 is divisible by both 7 and 9\n",
            "693 is divisible by both 7 and 9\n",
            "700 is divisible by both 7 and 9\n",
            "707 is divisible by both 7 and 9\n",
            "714 is divisible by both 7 and 9\n",
            "721 is divisible by both 7 and 9\n",
            "728 is divisible by both 7 and 9\n",
            "735 is divisible by both 7 and 9\n",
            "742 is divisible by both 7 and 9\n",
            "749 is divisible by both 7 and 9\n",
            "756 is divisible by both 7 and 9\n",
            "763 is divisible by both 7 and 9\n",
            "770 is divisible by both 7 and 9\n",
            "777 is divisible by both 7 and 9\n",
            "784 is divisible by both 7 and 9\n",
            "791 is divisible by both 7 and 9\n",
            "798 is divisible by both 7 and 9\n",
            "805 is divisible by both 7 and 9\n",
            "812 is divisible by both 7 and 9\n",
            "819 is divisible by both 7 and 9\n",
            "826 is divisible by both 7 and 9\n",
            "833 is divisible by both 7 and 9\n",
            "840 is divisible by both 7 and 9\n",
            "847 is divisible by both 7 and 9\n",
            "854 is divisible by both 7 and 9\n",
            "861 is divisible by both 7 and 9\n",
            "868 is divisible by both 7 and 9\n",
            "875 is divisible by both 7 and 9\n",
            "882 is divisible by both 7 and 9\n",
            "889 is divisible by both 7 and 9\n",
            "896 is divisible by both 7 and 9\n",
            "903 is divisible by both 7 and 9\n",
            "910 is divisible by both 7 and 9\n",
            "917 is divisible by both 7 and 9\n",
            "924 is divisible by both 7 and 9\n",
            "931 is divisible by both 7 and 9\n",
            "938 is divisible by both 7 and 9\n",
            "945 is divisible by both 7 and 9\n",
            "952 is divisible by both 7 and 9\n",
            "959 is divisible by both 7 and 9\n",
            "966 is divisible by both 7 and 9\n",
            "973 is divisible by both 7 and 9\n",
            "980 is divisible by both 7 and 9\n",
            "987 is divisible by both 7 and 9\n",
            "994 is divisible by both 7 and 9\n"
          ]
        }
      ]
    },
    {
      "cell_type": "markdown",
      "source": [
        "Q5. WAP to create two lists of 10 random numbers between 10 and 30; Find (i) Common numbers in the two lists (ii) Unique numbers in both the list (iii) Minimum in both the list (iv) Maximum in both the list (v) Sum of both the lists"
      ],
      "metadata": {
        "id": "X97kNVx89aQB"
      }
    },
    {
      "cell_type": "code",
      "source": [
        "import random as r\n",
        "L1=r.sample(range(10,30),10)\n",
        "L2=r.sample(range(10,30),10)\n",
        "print(L1)\n",
        "print(L2)\n"
      ],
      "metadata": {
        "colab": {
          "base_uri": "https://localhost:8080/"
        },
        "id": "0QERqhUf9TTQ",
        "outputId": "d531e59c-d603-442b-eaf8-5de931d1af11"
      },
      "execution_count": 10,
      "outputs": [
        {
          "output_type": "stream",
          "name": "stdout",
          "text": [
            "[23, 25, 13, 22, 24, 18, 26, 21, 17, 12]\n",
            "[17, 14, 21, 11, 27, 20, 22, 12, 26, 19]\n"
          ]
        }
      ]
    },
    {
      "cell_type": "markdown",
      "source": [
        "(i) Common numbers in the two lists"
      ],
      "metadata": {
        "id": "IexRphWg9kpX"
      }
    },
    {
      "cell_type": "code",
      "source": [
        "L3=[]\n",
        "for i in L1:\n",
        "  for j in L2:\n",
        "    if(i==j):\n",
        "      L3.append(i)\n",
        "      print(L3,\"is list of common no.s\")"
      ],
      "metadata": {
        "colab": {
          "base_uri": "https://localhost:8080/"
        },
        "id": "u6NtjdxB9fWT",
        "outputId": "acea5e1a-754e-4c92-cf01-9e483ccc3b7f"
      },
      "execution_count": 11,
      "outputs": [
        {
          "output_type": "stream",
          "name": "stdout",
          "text": [
            "[22] is list of common no.s\n",
            "[22, 26] is list of common no.s\n",
            "[22, 26, 21] is list of common no.s\n",
            "[22, 26, 21, 17] is list of common no.s\n",
            "[22, 26, 21, 17, 12] is list of common no.s\n"
          ]
        }
      ]
    },
    {
      "cell_type": "code",
      "source": [
        "L4=L1+L2\n",
        "min(L4)"
      ],
      "metadata": {
        "colab": {
          "base_uri": "https://localhost:8080/"
        },
        "id": "C5IhMnaO9pAD",
        "outputId": "5e40f4d3-2385-4c8e-8aca-405a155ea233"
      },
      "execution_count": 12,
      "outputs": [
        {
          "output_type": "execute_result",
          "data": {
            "text/plain": [
              "11"
            ]
          },
          "metadata": {},
          "execution_count": 12
        }
      ]
    },
    {
      "cell_type": "code",
      "source": [
        "max(L4)"
      ],
      "metadata": {
        "colab": {
          "base_uri": "https://localhost:8080/"
        },
        "id": "Y4fl-4kz9vfq",
        "outputId": "9d189c92-5526-4f3b-d189-fff3da5687b0"
      },
      "execution_count": 13,
      "outputs": [
        {
          "output_type": "execute_result",
          "data": {
            "text/plain": [
              "27"
            ]
          },
          "metadata": {},
          "execution_count": 13
        }
      ]
    },
    {
      "cell_type": "code",
      "source": [
        "sum(L4)"
      ],
      "metadata": {
        "colab": {
          "base_uri": "https://localhost:8080/"
        },
        "id": "R4VGjlTx93_B",
        "outputId": "1f9e0c5a-1682-434b-af35-a3b442482d6b"
      },
      "execution_count": 14,
      "outputs": [
        {
          "output_type": "execute_result",
          "data": {
            "text/plain": [
              "390"
            ]
          },
          "metadata": {},
          "execution_count": 14
        }
      ]
    },
    {
      "cell_type": "markdown",
      "source": [
        "Q6. WAP to create a list of 100 random numbers between 100 and 900. Count and print the: (i) All odd numbers (ii) All even numbers (iii) All prime numbers"
      ],
      "metadata": {
        "id": "fuaH_Hqw-CUj"
      }
    },
    {
      "cell_type": "code",
      "source": [
        "import random as r\n",
        "L=r.sample(range(101,900),100)\n",
        ""
      ],
      "metadata": {
        "id": "7f6krZqG98ol"
      },
      "execution_count": null,
      "outputs": []
    },
    {
      "cell_type": "code",
      "source": [
        "def odd(n):\n",
        "  if n%2==0:\n",
        "    return 1\n",
        "  return 0\n",
        "L1=[]\n",
        "for i in L:\n",
        "  if(odd(i)==0)):\n",
        "    L1.append(i)\n",
        "L1"
      ],
      "metadata": {
        "colab": {
          "base_uri": "https://localhost:8080/",
          "height": 110
        },
        "id": "G6K_RND7-Kbb",
        "outputId": "e60bb53f-41c8-4861-b53f-5ed41c52f290"
      },
      "execution_count": 17,
      "outputs": [
        {
          "output_type": "error",
          "ename": "SyntaxError",
          "evalue": "unmatched ')' (<ipython-input-17-1751a67e37b4>, line 7)",
          "traceback": [
            "\u001b[0;36m  File \u001b[0;32m\"<ipython-input-17-1751a67e37b4>\"\u001b[0;36m, line \u001b[0;32m7\u001b[0m\n\u001b[0;31m    if(odd(i)==0)):\u001b[0m\n\u001b[0m                 ^\u001b[0m\n\u001b[0;31mSyntaxError\u001b[0m\u001b[0;31m:\u001b[0m unmatched ')'\n"
          ]
        }
      ]
    },
    {
      "cell_type": "code",
      "source": [
        "L1=[]\n",
        "def even(n):\n",
        "  if n%2==0:\n",
        "    return 1\n",
        "  return 0\n",
        "for i in range(101,900):\n",
        "  if(even(i)==1):\n",
        "    L1.append(i)\n",
        "L1\n",
        "\n"
      ],
      "metadata": {
        "colab": {
          "base_uri": "https://localhost:8080/"
        },
        "id": "QdVqa3UB-Yne",
        "outputId": "015d5f30-7222-4363-807c-4f5581950970"
      },
      "execution_count": 19,
      "outputs": [
        {
          "output_type": "execute_result",
          "data": {
            "text/plain": [
              "[102,\n",
              " 104,\n",
              " 106,\n",
              " 108,\n",
              " 110,\n",
              " 112,\n",
              " 114,\n",
              " 116,\n",
              " 118,\n",
              " 120,\n",
              " 122,\n",
              " 124,\n",
              " 126,\n",
              " 128,\n",
              " 130,\n",
              " 132,\n",
              " 134,\n",
              " 136,\n",
              " 138,\n",
              " 140,\n",
              " 142,\n",
              " 144,\n",
              " 146,\n",
              " 148,\n",
              " 150,\n",
              " 152,\n",
              " 154,\n",
              " 156,\n",
              " 158,\n",
              " 160,\n",
              " 162,\n",
              " 164,\n",
              " 166,\n",
              " 168,\n",
              " 170,\n",
              " 172,\n",
              " 174,\n",
              " 176,\n",
              " 178,\n",
              " 180,\n",
              " 182,\n",
              " 184,\n",
              " 186,\n",
              " 188,\n",
              " 190,\n",
              " 192,\n",
              " 194,\n",
              " 196,\n",
              " 198,\n",
              " 200,\n",
              " 202,\n",
              " 204,\n",
              " 206,\n",
              " 208,\n",
              " 210,\n",
              " 212,\n",
              " 214,\n",
              " 216,\n",
              " 218,\n",
              " 220,\n",
              " 222,\n",
              " 224,\n",
              " 226,\n",
              " 228,\n",
              " 230,\n",
              " 232,\n",
              " 234,\n",
              " 236,\n",
              " 238,\n",
              " 240,\n",
              " 242,\n",
              " 244,\n",
              " 246,\n",
              " 248,\n",
              " 250,\n",
              " 252,\n",
              " 254,\n",
              " 256,\n",
              " 258,\n",
              " 260,\n",
              " 262,\n",
              " 264,\n",
              " 266,\n",
              " 268,\n",
              " 270,\n",
              " 272,\n",
              " 274,\n",
              " 276,\n",
              " 278,\n",
              " 280,\n",
              " 282,\n",
              " 284,\n",
              " 286,\n",
              " 288,\n",
              " 290,\n",
              " 292,\n",
              " 294,\n",
              " 296,\n",
              " 298,\n",
              " 300,\n",
              " 302,\n",
              " 304,\n",
              " 306,\n",
              " 308,\n",
              " 310,\n",
              " 312,\n",
              " 314,\n",
              " 316,\n",
              " 318,\n",
              " 320,\n",
              " 322,\n",
              " 324,\n",
              " 326,\n",
              " 328,\n",
              " 330,\n",
              " 332,\n",
              " 334,\n",
              " 336,\n",
              " 338,\n",
              " 340,\n",
              " 342,\n",
              " 344,\n",
              " 346,\n",
              " 348,\n",
              " 350,\n",
              " 352,\n",
              " 354,\n",
              " 356,\n",
              " 358,\n",
              " 360,\n",
              " 362,\n",
              " 364,\n",
              " 366,\n",
              " 368,\n",
              " 370,\n",
              " 372,\n",
              " 374,\n",
              " 376,\n",
              " 378,\n",
              " 380,\n",
              " 382,\n",
              " 384,\n",
              " 386,\n",
              " 388,\n",
              " 390,\n",
              " 392,\n",
              " 394,\n",
              " 396,\n",
              " 398,\n",
              " 400,\n",
              " 402,\n",
              " 404,\n",
              " 406,\n",
              " 408,\n",
              " 410,\n",
              " 412,\n",
              " 414,\n",
              " 416,\n",
              " 418,\n",
              " 420,\n",
              " 422,\n",
              " 424,\n",
              " 426,\n",
              " 428,\n",
              " 430,\n",
              " 432,\n",
              " 434,\n",
              " 436,\n",
              " 438,\n",
              " 440,\n",
              " 442,\n",
              " 444,\n",
              " 446,\n",
              " 448,\n",
              " 450,\n",
              " 452,\n",
              " 454,\n",
              " 456,\n",
              " 458,\n",
              " 460,\n",
              " 462,\n",
              " 464,\n",
              " 466,\n",
              " 468,\n",
              " 470,\n",
              " 472,\n",
              " 474,\n",
              " 476,\n",
              " 478,\n",
              " 480,\n",
              " 482,\n",
              " 484,\n",
              " 486,\n",
              " 488,\n",
              " 490,\n",
              " 492,\n",
              " 494,\n",
              " 496,\n",
              " 498,\n",
              " 500,\n",
              " 502,\n",
              " 504,\n",
              " 506,\n",
              " 508,\n",
              " 510,\n",
              " 512,\n",
              " 514,\n",
              " 516,\n",
              " 518,\n",
              " 520,\n",
              " 522,\n",
              " 524,\n",
              " 526,\n",
              " 528,\n",
              " 530,\n",
              " 532,\n",
              " 534,\n",
              " 536,\n",
              " 538,\n",
              " 540,\n",
              " 542,\n",
              " 544,\n",
              " 546,\n",
              " 548,\n",
              " 550,\n",
              " 552,\n",
              " 554,\n",
              " 556,\n",
              " 558,\n",
              " 560,\n",
              " 562,\n",
              " 564,\n",
              " 566,\n",
              " 568,\n",
              " 570,\n",
              " 572,\n",
              " 574,\n",
              " 576,\n",
              " 578,\n",
              " 580,\n",
              " 582,\n",
              " 584,\n",
              " 586,\n",
              " 588,\n",
              " 590,\n",
              " 592,\n",
              " 594,\n",
              " 596,\n",
              " 598,\n",
              " 600,\n",
              " 602,\n",
              " 604,\n",
              " 606,\n",
              " 608,\n",
              " 610,\n",
              " 612,\n",
              " 614,\n",
              " 616,\n",
              " 618,\n",
              " 620,\n",
              " 622,\n",
              " 624,\n",
              " 626,\n",
              " 628,\n",
              " 630,\n",
              " 632,\n",
              " 634,\n",
              " 636,\n",
              " 638,\n",
              " 640,\n",
              " 642,\n",
              " 644,\n",
              " 646,\n",
              " 648,\n",
              " 650,\n",
              " 652,\n",
              " 654,\n",
              " 656,\n",
              " 658,\n",
              " 660,\n",
              " 662,\n",
              " 664,\n",
              " 666,\n",
              " 668,\n",
              " 670,\n",
              " 672,\n",
              " 674,\n",
              " 676,\n",
              " 678,\n",
              " 680,\n",
              " 682,\n",
              " 684,\n",
              " 686,\n",
              " 688,\n",
              " 690,\n",
              " 692,\n",
              " 694,\n",
              " 696,\n",
              " 698,\n",
              " 700,\n",
              " 702,\n",
              " 704,\n",
              " 706,\n",
              " 708,\n",
              " 710,\n",
              " 712,\n",
              " 714,\n",
              " 716,\n",
              " 718,\n",
              " 720,\n",
              " 722,\n",
              " 724,\n",
              " 726,\n",
              " 728,\n",
              " 730,\n",
              " 732,\n",
              " 734,\n",
              " 736,\n",
              " 738,\n",
              " 740,\n",
              " 742,\n",
              " 744,\n",
              " 746,\n",
              " 748,\n",
              " 750,\n",
              " 752,\n",
              " 754,\n",
              " 756,\n",
              " 758,\n",
              " 760,\n",
              " 762,\n",
              " 764,\n",
              " 766,\n",
              " 768,\n",
              " 770,\n",
              " 772,\n",
              " 774,\n",
              " 776,\n",
              " 778,\n",
              " 780,\n",
              " 782,\n",
              " 784,\n",
              " 786,\n",
              " 788,\n",
              " 790,\n",
              " 792,\n",
              " 794,\n",
              " 796,\n",
              " 798,\n",
              " 800,\n",
              " 802,\n",
              " 804,\n",
              " 806,\n",
              " 808,\n",
              " 810,\n",
              " 812,\n",
              " 814,\n",
              " 816,\n",
              " 818,\n",
              " 820,\n",
              " 822,\n",
              " 824,\n",
              " 826,\n",
              " 828,\n",
              " 830,\n",
              " 832,\n",
              " 834,\n",
              " 836,\n",
              " 838,\n",
              " 840,\n",
              " 842,\n",
              " 844,\n",
              " 846,\n",
              " 848,\n",
              " 850,\n",
              " 852,\n",
              " 854,\n",
              " 856,\n",
              " 858,\n",
              " 860,\n",
              " 862,\n",
              " 864,\n",
              " 866,\n",
              " 868,\n",
              " 870,\n",
              " 872,\n",
              " 874,\n",
              " 876,\n",
              " 878,\n",
              " 880,\n",
              " 882,\n",
              " 884,\n",
              " 886,\n",
              " 888,\n",
              " 890,\n",
              " 892,\n",
              " 894,\n",
              " 896,\n",
              " 898]"
            ]
          },
          "metadata": {},
          "execution_count": 19
        }
      ]
    }
  ]
}